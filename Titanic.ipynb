{
 "cells": [
  {
   "cell_type": "code",
   "execution_count": 19,
   "metadata": {},
   "outputs": [
    {
     "data": {
      "text/html": "<div>\n<style scoped>\n    .dataframe tbody tr th:only-of-type {\n        vertical-align: middle;\n    }\n\n    .dataframe tbody tr th {\n        vertical-align: top;\n    }\n\n    .dataframe thead th {\n        text-align: right;\n    }\n</style>\n<table border=\"1\" class=\"dataframe\">\n  <thead>\n    <tr style=\"text-align: right;\">\n      <th></th>\n      <th>PassengerId</th>\n      <th>Survived</th>\n      <th>Pclass</th>\n      <th>Name</th>\n      <th>Sex</th>\n      <th>Age</th>\n      <th>SibSp</th>\n      <th>Parch</th>\n      <th>Ticket</th>\n      <th>Fare</th>\n      <th>Cabin</th>\n      <th>Embarked</th>\n    </tr>\n  </thead>\n  <tbody>\n    <tr>\n      <th>0</th>\n      <td>1</td>\n      <td>0</td>\n      <td>3</td>\n      <td>Braund, Mr. Owen Harris</td>\n      <td>male</td>\n      <td>22.0</td>\n      <td>1</td>\n      <td>0</td>\n      <td>A/5 21171</td>\n      <td>7.2500</td>\n      <td>NaN</td>\n      <td>S</td>\n    </tr>\n    <tr>\n      <th>1</th>\n      <td>2</td>\n      <td>1</td>\n      <td>1</td>\n      <td>Cumings, Mrs. John Bradley (Florence Briggs Th...</td>\n      <td>female</td>\n      <td>38.0</td>\n      <td>1</td>\n      <td>0</td>\n      <td>PC 17599</td>\n      <td>71.2833</td>\n      <td>C85</td>\n      <td>C</td>\n    </tr>\n    <tr>\n      <th>2</th>\n      <td>3</td>\n      <td>1</td>\n      <td>3</td>\n      <td>Heikkinen, Miss. Laina</td>\n      <td>female</td>\n      <td>26.0</td>\n      <td>0</td>\n      <td>0</td>\n      <td>STON/O2. 3101282</td>\n      <td>7.9250</td>\n      <td>NaN</td>\n      <td>S</td>\n    </tr>\n    <tr>\n      <th>3</th>\n      <td>4</td>\n      <td>1</td>\n      <td>1</td>\n      <td>Futrelle, Mrs. Jacques Heath (Lily May Peel)</td>\n      <td>female</td>\n      <td>35.0</td>\n      <td>1</td>\n      <td>0</td>\n      <td>113803</td>\n      <td>53.1000</td>\n      <td>C123</td>\n      <td>S</td>\n    </tr>\n    <tr>\n      <th>4</th>\n      <td>5</td>\n      <td>0</td>\n      <td>3</td>\n      <td>Allen, Mr. William Henry</td>\n      <td>male</td>\n      <td>35.0</td>\n      <td>0</td>\n      <td>0</td>\n      <td>373450</td>\n      <td>8.0500</td>\n      <td>NaN</td>\n      <td>S</td>\n    </tr>\n    <tr>\n      <th>...</th>\n      <td>...</td>\n      <td>...</td>\n      <td>...</td>\n      <td>...</td>\n      <td>...</td>\n      <td>...</td>\n      <td>...</td>\n      <td>...</td>\n      <td>...</td>\n      <td>...</td>\n      <td>...</td>\n      <td>...</td>\n    </tr>\n    <tr>\n      <th>886</th>\n      <td>887</td>\n      <td>0</td>\n      <td>2</td>\n      <td>Montvila, Rev. Juozas</td>\n      <td>male</td>\n      <td>27.0</td>\n      <td>0</td>\n      <td>0</td>\n      <td>211536</td>\n      <td>13.0000</td>\n      <td>NaN</td>\n      <td>S</td>\n    </tr>\n    <tr>\n      <th>887</th>\n      <td>888</td>\n      <td>1</td>\n      <td>1</td>\n      <td>Graham, Miss. Margaret Edith</td>\n      <td>female</td>\n      <td>19.0</td>\n      <td>0</td>\n      <td>0</td>\n      <td>112053</td>\n      <td>30.0000</td>\n      <td>B42</td>\n      <td>S</td>\n    </tr>\n    <tr>\n      <th>888</th>\n      <td>889</td>\n      <td>0</td>\n      <td>3</td>\n      <td>Johnston, Miss. Catherine Helen \"Carrie\"</td>\n      <td>female</td>\n      <td>NaN</td>\n      <td>1</td>\n      <td>2</td>\n      <td>W./C. 6607</td>\n      <td>23.4500</td>\n      <td>NaN</td>\n      <td>S</td>\n    </tr>\n    <tr>\n      <th>889</th>\n      <td>890</td>\n      <td>1</td>\n      <td>1</td>\n      <td>Behr, Mr. Karl Howell</td>\n      <td>male</td>\n      <td>26.0</td>\n      <td>0</td>\n      <td>0</td>\n      <td>111369</td>\n      <td>30.0000</td>\n      <td>C148</td>\n      <td>C</td>\n    </tr>\n    <tr>\n      <th>890</th>\n      <td>891</td>\n      <td>0</td>\n      <td>3</td>\n      <td>Dooley, Mr. Patrick</td>\n      <td>male</td>\n      <td>32.0</td>\n      <td>0</td>\n      <td>0</td>\n      <td>370376</td>\n      <td>7.7500</td>\n      <td>NaN</td>\n      <td>Q</td>\n    </tr>\n  </tbody>\n</table>\n<p>891 rows × 12 columns</p>\n</div>",
      "text/plain": "     PassengerId  Survived  Pclass  \\\n0              1         0       3   \n1              2         1       1   \n2              3         1       3   \n3              4         1       1   \n4              5         0       3   \n..           ...       ...     ...   \n886          887         0       2   \n887          888         1       1   \n888          889         0       3   \n889          890         1       1   \n890          891         0       3   \n\n                                                  Name     Sex   Age  SibSp  \\\n0                              Braund, Mr. Owen Harris    male  22.0      1   \n1    Cumings, Mrs. John Bradley (Florence Briggs Th...  female  38.0      1   \n2                               Heikkinen, Miss. Laina  female  26.0      0   \n3         Futrelle, Mrs. Jacques Heath (Lily May Peel)  female  35.0      1   \n4                             Allen, Mr. William Henry    male  35.0      0   \n..                                                 ...     ...   ...    ...   \n886                              Montvila, Rev. Juozas    male  27.0      0   \n887                       Graham, Miss. Margaret Edith  female  19.0      0   \n888           Johnston, Miss. Catherine Helen \"Carrie\"  female   NaN      1   \n889                              Behr, Mr. Karl Howell    male  26.0      0   \n890                                Dooley, Mr. Patrick    male  32.0      0   \n\n     Parch            Ticket     Fare Cabin Embarked  \n0        0         A/5 21171   7.2500   NaN        S  \n1        0          PC 17599  71.2833   C85        C  \n2        0  STON/O2. 3101282   7.9250   NaN        S  \n3        0            113803  53.1000  C123        S  \n4        0            373450   8.0500   NaN        S  \n..     ...               ...      ...   ...      ...  \n886      0            211536  13.0000   NaN        S  \n887      0            112053  30.0000   B42        S  \n888      2        W./C. 6607  23.4500   NaN        S  \n889      0            111369  30.0000  C148        C  \n890      0            370376   7.7500   NaN        Q  \n\n[891 rows x 12 columns]"
     },
     "execution_count": 19,
     "metadata": {},
     "output_type": "execute_result"
    }
   ],
   "source": [
    "# here we are doing the data cleaning of our training data for titanic\r\n",
    "\r\n",
    "import pandas as pd\r\n",
    "x=pd.read_csv(\"D:/python/CSV Files/train.csv\")\r\n",
    "x"
   ]
  },
  {
   "cell_type": "code",
   "execution_count": 20,
   "metadata": {},
   "outputs": [
    {
     "data": {
      "text/plain": "(891, 12)"
     },
     "execution_count": 20,
     "metadata": {},
     "output_type": "execute_result"
    }
   ],
   "source": [
    "x.shape"
   ]
  },
  {
   "cell_type": "code",
   "execution_count": 21,
   "metadata": {},
   "outputs": [
    {
     "data": {
      "text/plain": "PassengerId      0\nSurvived         0\nPclass           0\nName             0\nSex              0\nAge            177\nSibSp            0\nParch            0\nTicket           0\nFare             0\nCabin          687\nEmbarked         2\ndtype: int64"
     },
     "execution_count": 21,
     "metadata": {},
     "output_type": "execute_result"
    }
   ],
   "source": [
    "x.isna().sum()"
   ]
  },
  {
   "cell_type": "code",
   "execution_count": 22,
   "metadata": {},
   "outputs": [],
   "source": [
    "x=x.drop('Cabin',axis=1)"
   ]
  },
  {
   "cell_type": "code",
   "execution_count": 23,
   "metadata": {},
   "outputs": [
    {
     "data": {
      "text/plain": "PassengerId      0\nSurvived         0\nPclass           0\nName             0\nSex              0\nAge            177\nSibSp            0\nParch            0\nTicket           0\nFare             0\nEmbarked         2\ndtype: int64"
     },
     "execution_count": 23,
     "metadata": {},
     "output_type": "execute_result"
    }
   ],
   "source": [
    "x.isna().sum()"
   ]
  },
  {
   "cell_type": "code",
   "execution_count": 24,
   "metadata": {},
   "outputs": [
    {
     "data": {
      "text/plain": "29.69911764705882"
     },
     "execution_count": 24,
     "metadata": {},
     "output_type": "execute_result"
    }
   ],
   "source": [
    "x[\"Age\"].mean()"
   ]
  },
  {
   "cell_type": "code",
   "execution_count": 25,
   "metadata": {},
   "outputs": [],
   "source": [
    "x['Age'].fillna(x['Age'].mean(),inplace=True)"
   ]
  },
  {
   "cell_type": "code",
   "execution_count": 26,
   "metadata": {},
   "outputs": [
    {
     "data": {
      "text/plain": "PassengerId    0\nSurvived       0\nPclass         0\nName           0\nSex            0\nAge            0\nSibSp          0\nParch          0\nTicket         0\nFare           0\nEmbarked       2\ndtype: int64"
     },
     "execution_count": 26,
     "metadata": {},
     "output_type": "execute_result"
    }
   ],
   "source": [
    "x.isna().sum()"
   ]
  },
  {
   "cell_type": "code",
   "execution_count": 17,
   "metadata": {},
   "outputs": [],
   "source": [
    "x['Embarked'].fillna(x['Embarked'].mode()[0],inplace=True)"
   ]
  },
  {
   "cell_type": "code",
   "execution_count": 18,
   "metadata": {},
   "outputs": [
    {
     "data": {
      "text/plain": "PassengerId    0\nSurvived       0\nPclass         0\nName           0\nSex            0\nAge            0\nSibSp          0\nParch          0\nTicket         0\nFare           0\nEmbarked       0\ndtype: int64"
     },
     "execution_count": 18,
     "metadata": {},
     "output_type": "execute_result"
    }
   ],
   "source": [
    "x.isna().sum()"
   ]
  },
  {
   "cell_type": "code",
   "execution_count": 44,
   "metadata": {},
   "outputs": [],
   "source": [
    "# creating the training feature and target tables\r\n",
    "train_target=x['Survived']\r\n",
    "train_feature=x.drop(['Survived','Survived','Name','Ticket','Embarked','PassengerId'],axis=1)\r\n",
    "train_feature=pd.get_dummies(train_feature,columns=['Sex'])\r\n",
    "train_target=pd.get_dummies(train_target,columns=['Survived'])\r\n",
    "train_target.columns=['Not_Survived','Survived']"
   ]
  },
  {
   "cell_type": "code",
   "execution_count": 34,
   "metadata": {},
   "outputs": [
    {
     "data": {
      "text/html": "<div>\n<style scoped>\n    .dataframe tbody tr th:only-of-type {\n        vertical-align: middle;\n    }\n\n    .dataframe tbody tr th {\n        vertical-align: top;\n    }\n\n    .dataframe thead th {\n        text-align: right;\n    }\n</style>\n<table border=\"1\" class=\"dataframe\">\n  <thead>\n    <tr style=\"text-align: right;\">\n      <th></th>\n      <th>Pclass</th>\n      <th>Age</th>\n      <th>SibSp</th>\n      <th>Parch</th>\n      <th>Fare</th>\n      <th>Sex_female</th>\n      <th>Sex_male</th>\n    </tr>\n  </thead>\n  <tbody>\n    <tr>\n      <th>0</th>\n      <td>3</td>\n      <td>22.000000</td>\n      <td>1</td>\n      <td>0</td>\n      <td>7.2500</td>\n      <td>0</td>\n      <td>1</td>\n    </tr>\n    <tr>\n      <th>1</th>\n      <td>1</td>\n      <td>38.000000</td>\n      <td>1</td>\n      <td>0</td>\n      <td>71.2833</td>\n      <td>1</td>\n      <td>0</td>\n    </tr>\n    <tr>\n      <th>2</th>\n      <td>3</td>\n      <td>26.000000</td>\n      <td>0</td>\n      <td>0</td>\n      <td>7.9250</td>\n      <td>1</td>\n      <td>0</td>\n    </tr>\n    <tr>\n      <th>3</th>\n      <td>1</td>\n      <td>35.000000</td>\n      <td>1</td>\n      <td>0</td>\n      <td>53.1000</td>\n      <td>1</td>\n      <td>0</td>\n    </tr>\n    <tr>\n      <th>4</th>\n      <td>3</td>\n      <td>35.000000</td>\n      <td>0</td>\n      <td>0</td>\n      <td>8.0500</td>\n      <td>0</td>\n      <td>1</td>\n    </tr>\n    <tr>\n      <th>...</th>\n      <td>...</td>\n      <td>...</td>\n      <td>...</td>\n      <td>...</td>\n      <td>...</td>\n      <td>...</td>\n      <td>...</td>\n    </tr>\n    <tr>\n      <th>886</th>\n      <td>2</td>\n      <td>27.000000</td>\n      <td>0</td>\n      <td>0</td>\n      <td>13.0000</td>\n      <td>0</td>\n      <td>1</td>\n    </tr>\n    <tr>\n      <th>887</th>\n      <td>1</td>\n      <td>19.000000</td>\n      <td>0</td>\n      <td>0</td>\n      <td>30.0000</td>\n      <td>1</td>\n      <td>0</td>\n    </tr>\n    <tr>\n      <th>888</th>\n      <td>3</td>\n      <td>29.699118</td>\n      <td>1</td>\n      <td>2</td>\n      <td>23.4500</td>\n      <td>1</td>\n      <td>0</td>\n    </tr>\n    <tr>\n      <th>889</th>\n      <td>1</td>\n      <td>26.000000</td>\n      <td>0</td>\n      <td>0</td>\n      <td>30.0000</td>\n      <td>0</td>\n      <td>1</td>\n    </tr>\n    <tr>\n      <th>890</th>\n      <td>3</td>\n      <td>32.000000</td>\n      <td>0</td>\n      <td>0</td>\n      <td>7.7500</td>\n      <td>0</td>\n      <td>1</td>\n    </tr>\n  </tbody>\n</table>\n<p>891 rows × 7 columns</p>\n</div>",
      "text/plain": "     Pclass        Age  SibSp  Parch     Fare  Sex_female  Sex_male\n0         3  22.000000      1      0   7.2500           0         1\n1         1  38.000000      1      0  71.2833           1         0\n2         3  26.000000      0      0   7.9250           1         0\n3         1  35.000000      1      0  53.1000           1         0\n4         3  35.000000      0      0   8.0500           0         1\n..      ...        ...    ...    ...      ...         ...       ...\n886       2  27.000000      0      0  13.0000           0         1\n887       1  19.000000      0      0  30.0000           1         0\n888       3  29.699118      1      2  23.4500           1         0\n889       1  26.000000      0      0  30.0000           0         1\n890       3  32.000000      0      0   7.7500           0         1\n\n[891 rows x 7 columns]"
     },
     "execution_count": 34,
     "metadata": {},
     "output_type": "execute_result"
    }
   ],
   "source": [
    "train_feature"
   ]
  },
  {
   "cell_type": "code",
   "execution_count": 45,
   "metadata": {},
   "outputs": [
    {
     "data": {
      "text/plain": "(891, 7)"
     },
     "execution_count": 45,
     "metadata": {},
     "output_type": "execute_result"
    }
   ],
   "source": [
    "train_feature.shape"
   ]
  },
  {
   "cell_type": "code",
   "execution_count": 46,
   "metadata": {},
   "outputs": [
    {
     "data": {
      "text/plain": "(891, 2)"
     },
     "execution_count": 46,
     "metadata": {},
     "output_type": "execute_result"
    }
   ],
   "source": [
    "train_target.shape"
   ]
  },
  {
   "cell_type": "code",
   "execution_count": 47,
   "metadata": {},
   "outputs": [
    {
     "data": {
      "text/html": "<div>\n<style scoped>\n    .dataframe tbody tr th:only-of-type {\n        vertical-align: middle;\n    }\n\n    .dataframe tbody tr th {\n        vertical-align: top;\n    }\n\n    .dataframe thead th {\n        text-align: right;\n    }\n</style>\n<table border=\"1\" class=\"dataframe\">\n  <thead>\n    <tr style=\"text-align: right;\">\n      <th></th>\n      <th>Not_Survived</th>\n      <th>Survived</th>\n    </tr>\n  </thead>\n  <tbody>\n    <tr>\n      <th>0</th>\n      <td>1</td>\n      <td>0</td>\n    </tr>\n    <tr>\n      <th>1</th>\n      <td>0</td>\n      <td>1</td>\n    </tr>\n    <tr>\n      <th>2</th>\n      <td>0</td>\n      <td>1</td>\n    </tr>\n    <tr>\n      <th>3</th>\n      <td>0</td>\n      <td>1</td>\n    </tr>\n    <tr>\n      <th>4</th>\n      <td>1</td>\n      <td>0</td>\n    </tr>\n  </tbody>\n</table>\n</div>",
      "text/plain": "   Not_Survived  Survived\n0             1         0\n1             0         1\n2             0         1\n3             0         1\n4             1         0"
     },
     "execution_count": 47,
     "metadata": {},
     "output_type": "execute_result"
    }
   ],
   "source": [
    "train_target.head()"
   ]
  },
  {
   "cell_type": "code",
   "execution_count": 86,
   "metadata": {},
   "outputs": [
    {
     "name": "stdout",
     "output_type": "stream",
     "text": [
      "Epoch 1/45\n",
      "28/28 [==============================] - 3s 81ms/step - loss: 0.9311 - accuracy: 0.6043\n",
      "Epoch 2/45\n",
      "28/28 [==============================] - 2s 66ms/step - loss: 0.6402 - accuracy: 0.7051\n",
      "Epoch 3/45\n",
      "28/28 [==============================] - 2s 65ms/step - loss: 0.6514 - accuracy: 0.6283\n",
      "Epoch 4/45\n",
      "28/28 [==============================] - 2s 68ms/step - loss: 0.6071 - accuracy: 0.7045\n",
      "Epoch 5/45\n",
      "28/28 [==============================] - 2s 69ms/step - loss: 0.5736 - accuracy: 0.6790\n",
      "Epoch 6/45\n",
      "28/28 [==============================] - 2s 67ms/step - loss: 0.5206 - accuracy: 0.7728\n",
      "Epoch 7/45\n",
      "28/28 [==============================] - 2s 66ms/step - loss: 0.5239 - accuracy: 0.7561\n",
      "Epoch 8/45\n",
      "28/28 [==============================] - 2s 66ms/step - loss: 0.4913 - accuracy: 0.7962\n",
      "Epoch 9/45\n",
      "28/28 [==============================] - 2s 66ms/step - loss: 0.4903 - accuracy: 0.7802\n",
      "Epoch 10/45\n",
      "28/28 [==============================] - 2s 67ms/step - loss: 0.5812 - accuracy: 0.7340\n",
      "Epoch 11/45\n",
      "28/28 [==============================] - 2s 66ms/step - loss: 0.5349 - accuracy: 0.7656\n",
      "Epoch 12/45\n",
      "28/28 [==============================] - 2s 67ms/step - loss: 0.4709 - accuracy: 0.8053\n",
      "Epoch 13/45\n",
      "28/28 [==============================] - 2s 67ms/step - loss: 0.4665 - accuracy: 0.8110\n",
      "Epoch 14/45\n",
      "28/28 [==============================] - 2s 67ms/step - loss: 0.5217 - accuracy: 0.7733\n",
      "Epoch 15/45\n",
      "28/28 [==============================] - 2s 66ms/step - loss: 0.4751 - accuracy: 0.7910\n",
      "Epoch 16/45\n",
      "28/28 [==============================] - 2s 66ms/step - loss: 0.4824 - accuracy: 0.7901\n",
      "Epoch 17/45\n",
      "28/28 [==============================] - 2s 67ms/step - loss: 0.5242 - accuracy: 0.7935\n",
      "Epoch 18/45\n",
      "28/28 [==============================] - 2s 67ms/step - loss: 0.4535 - accuracy: 0.8123\n",
      "Epoch 19/45\n",
      "28/28 [==============================] - 2s 67ms/step - loss: 0.4690 - accuracy: 0.8034\n",
      "Epoch 20/45\n",
      "28/28 [==============================] - 2s 66ms/step - loss: 0.4744 - accuracy: 0.8040\n",
      "Epoch 21/45\n",
      "28/28 [==============================] - 2s 67ms/step - loss: 0.4774 - accuracy: 0.7856\n",
      "Epoch 22/45\n",
      "28/28 [==============================] - 2s 67ms/step - loss: 0.4292 - accuracy: 0.8183\n",
      "Epoch 23/45\n",
      "28/28 [==============================] - 2s 67ms/step - loss: 0.4883 - accuracy: 0.8003\n",
      "Epoch 24/45\n",
      "28/28 [==============================] - 2s 68ms/step - loss: 0.4276 - accuracy: 0.8148\n",
      "Epoch 25/45\n",
      "28/28 [==============================] - 2s 67ms/step - loss: 0.4481 - accuracy: 0.8127\n",
      "Epoch 26/45\n",
      "28/28 [==============================] - 2s 68ms/step - loss: 0.4555 - accuracy: 0.8044\n",
      "Epoch 27/45\n",
      "28/28 [==============================] - 2s 66ms/step - loss: 0.5792 - accuracy: 0.6809\n",
      "Epoch 28/45\n",
      "28/28 [==============================] - 2s 66ms/step - loss: 0.4445 - accuracy: 0.8202\n",
      "Epoch 29/45\n",
      "28/28 [==============================] - 2s 67ms/step - loss: 0.4618 - accuracy: 0.8118\n",
      "Epoch 30/45\n",
      "28/28 [==============================] - 2s 66ms/step - loss: 0.4864 - accuracy: 0.7788\n",
      "Epoch 31/45\n",
      "28/28 [==============================] - 2s 66ms/step - loss: 0.4658 - accuracy: 0.7979\n",
      "Epoch 32/45\n",
      "28/28 [==============================] - 2s 66ms/step - loss: 0.4438 - accuracy: 0.8225\n",
      "Epoch 33/45\n",
      "28/28 [==============================] - 2s 67ms/step - loss: 0.4460 - accuracy: 0.8239\n",
      "Epoch 34/45\n",
      "28/28 [==============================] - 2s 67ms/step - loss: 0.4286 - accuracy: 0.8298\n",
      "Epoch 35/45\n",
      "28/28 [==============================] - 2s 67ms/step - loss: 0.4289 - accuracy: 0.8273\n",
      "Epoch 36/45\n",
      "28/28 [==============================] - 2s 67ms/step - loss: 0.4564 - accuracy: 0.7962\n",
      "Epoch 37/45\n",
      "28/28 [==============================] - 2s 67ms/step - loss: 0.4350 - accuracy: 0.8071\n",
      "Epoch 38/45\n",
      "28/28 [==============================] - 2s 67ms/step - loss: 0.4246 - accuracy: 0.8242\n",
      "Epoch 39/45\n",
      "28/28 [==============================] - 2s 67ms/step - loss: 0.4022 - accuracy: 0.8354\n",
      "Epoch 40/45\n",
      "28/28 [==============================] - 2s 66ms/step - loss: 0.4307 - accuracy: 0.8126\n",
      "Epoch 41/45\n",
      "28/28 [==============================] - 2s 68ms/step - loss: 0.3824 - accuracy: 0.8585\n",
      "Epoch 42/45\n",
      "28/28 [==============================] - 2s 67ms/step - loss: 0.4344 - accuracy: 0.8264\n",
      "Epoch 43/45\n",
      "28/28 [==============================] - 2s 67ms/step - loss: 0.4291 - accuracy: 0.8089\n",
      "Epoch 44/45\n",
      "28/28 [==============================] - 2s 66ms/step - loss: 0.4119 - accuracy: 0.8525\n",
      "Epoch 45/45\n",
      "28/28 [==============================] - 2s 66ms/step - loss: 0.4091 - accuracy: 0.8297\n"
     ]
    },
    {
     "data": {
      "text/plain": "<tensorflow.python.keras.callbacks.History at 0x29d894c8a30>"
     },
     "execution_count": 86,
     "metadata": {},
     "output_type": "execute_result"
    }
   ],
   "source": [
    "# model to predict who will survive in titanic incedent\r\n",
    " \r\n",
    "import keras \r\n",
    "from keras.layers import Dense\r\n",
    "from keras.models import Sequential\r\n",
    "\r\n",
    "# model architecture\r\n",
    "\r\n",
    "model=Sequential()\r\n",
    "model.add(Dense(1700,activation='relu',input_shape=(7,)))\r\n",
    "model.add(Dense(1300,activation='relu'))\r\n",
    "model.add(Dense(1200,activation='relu'))\r\n",
    "model.add(Dense(1100,activation='relu'))\r\n",
    "model.add(Dense(1000,activation='relu'))\r\n",
    "model.add(Dense(900,activation='relu'))\r\n",
    "model.add(Dense(800,activation='relu'))\r\n",
    "model.add(Dense(700,activation='relu'))\r\n",
    "model.add(Dense(600,activation='relu'))\r\n",
    "model.add(Dense(500,activation='relu'))\r\n",
    "model.add(Dense(400,activation='relu'))\r\n",
    "model.add(Dense(300,activation='relu'))\r\n",
    "model.add(Dense(2,activation='softmax'))\r\n",
    "  \r\n",
    "\r\n",
    "# model compilation\r\n",
    "\r\n",
    "model.compile(optimizer='adam',loss='categorical_crossentropy',metrics=['accuracy'])\r\n",
    "\r\n",
    "# fitting the model\r\n",
    "\r\n",
    "model.fit(train_feature,train_target,epochs=45)\r\n",
    "\r\n",
    "\r\n"
   ]
  },
  {
   "cell_type": "code",
   "execution_count": 88,
   "metadata": {},
   "outputs": [],
   "source": [
    "raw=pd.read_csv('D:/python/CSV Files/test.csv')"
   ]
  },
  {
   "cell_type": "code",
   "execution_count": 90,
   "metadata": {},
   "outputs": [
    {
     "data": {
      "text/html": "<div>\n<style scoped>\n    .dataframe tbody tr th:only-of-type {\n        vertical-align: middle;\n    }\n\n    .dataframe tbody tr th {\n        vertical-align: top;\n    }\n\n    .dataframe thead th {\n        text-align: right;\n    }\n</style>\n<table border=\"1\" class=\"dataframe\">\n  <thead>\n    <tr style=\"text-align: right;\">\n      <th></th>\n      <th>PassengerId</th>\n      <th>Pclass</th>\n      <th>Name</th>\n      <th>Sex</th>\n      <th>Age</th>\n      <th>SibSp</th>\n      <th>Parch</th>\n      <th>Ticket</th>\n      <th>Fare</th>\n      <th>Cabin</th>\n      <th>Embarked</th>\n    </tr>\n  </thead>\n  <tbody>\n    <tr>\n      <th>0</th>\n      <td>892</td>\n      <td>3</td>\n      <td>Kelly, Mr. James</td>\n      <td>male</td>\n      <td>34.5</td>\n      <td>0</td>\n      <td>0</td>\n      <td>330911</td>\n      <td>7.8292</td>\n      <td>NaN</td>\n      <td>Q</td>\n    </tr>\n    <tr>\n      <th>1</th>\n      <td>893</td>\n      <td>3</td>\n      <td>Wilkes, Mrs. James (Ellen Needs)</td>\n      <td>female</td>\n      <td>47.0</td>\n      <td>1</td>\n      <td>0</td>\n      <td>363272</td>\n      <td>7.0000</td>\n      <td>NaN</td>\n      <td>S</td>\n    </tr>\n    <tr>\n      <th>2</th>\n      <td>894</td>\n      <td>2</td>\n      <td>Myles, Mr. Thomas Francis</td>\n      <td>male</td>\n      <td>62.0</td>\n      <td>0</td>\n      <td>0</td>\n      <td>240276</td>\n      <td>9.6875</td>\n      <td>NaN</td>\n      <td>Q</td>\n    </tr>\n    <tr>\n      <th>3</th>\n      <td>895</td>\n      <td>3</td>\n      <td>Wirz, Mr. Albert</td>\n      <td>male</td>\n      <td>27.0</td>\n      <td>0</td>\n      <td>0</td>\n      <td>315154</td>\n      <td>8.6625</td>\n      <td>NaN</td>\n      <td>S</td>\n    </tr>\n    <tr>\n      <th>4</th>\n      <td>896</td>\n      <td>3</td>\n      <td>Hirvonen, Mrs. Alexander (Helga E Lindqvist)</td>\n      <td>female</td>\n      <td>22.0</td>\n      <td>1</td>\n      <td>1</td>\n      <td>3101298</td>\n      <td>12.2875</td>\n      <td>NaN</td>\n      <td>S</td>\n    </tr>\n    <tr>\n      <th>...</th>\n      <td>...</td>\n      <td>...</td>\n      <td>...</td>\n      <td>...</td>\n      <td>...</td>\n      <td>...</td>\n      <td>...</td>\n      <td>...</td>\n      <td>...</td>\n      <td>...</td>\n      <td>...</td>\n    </tr>\n    <tr>\n      <th>413</th>\n      <td>1305</td>\n      <td>3</td>\n      <td>Spector, Mr. Woolf</td>\n      <td>male</td>\n      <td>NaN</td>\n      <td>0</td>\n      <td>0</td>\n      <td>A.5. 3236</td>\n      <td>8.0500</td>\n      <td>NaN</td>\n      <td>S</td>\n    </tr>\n    <tr>\n      <th>414</th>\n      <td>1306</td>\n      <td>1</td>\n      <td>Oliva y Ocana, Dona. Fermina</td>\n      <td>female</td>\n      <td>39.0</td>\n      <td>0</td>\n      <td>0</td>\n      <td>PC 17758</td>\n      <td>108.9000</td>\n      <td>C105</td>\n      <td>C</td>\n    </tr>\n    <tr>\n      <th>415</th>\n      <td>1307</td>\n      <td>3</td>\n      <td>Saether, Mr. Simon Sivertsen</td>\n      <td>male</td>\n      <td>38.5</td>\n      <td>0</td>\n      <td>0</td>\n      <td>SOTON/O.Q. 3101262</td>\n      <td>7.2500</td>\n      <td>NaN</td>\n      <td>S</td>\n    </tr>\n    <tr>\n      <th>416</th>\n      <td>1308</td>\n      <td>3</td>\n      <td>Ware, Mr. Frederick</td>\n      <td>male</td>\n      <td>NaN</td>\n      <td>0</td>\n      <td>0</td>\n      <td>359309</td>\n      <td>8.0500</td>\n      <td>NaN</td>\n      <td>S</td>\n    </tr>\n    <tr>\n      <th>417</th>\n      <td>1309</td>\n      <td>3</td>\n      <td>Peter, Master. Michael J</td>\n      <td>male</td>\n      <td>NaN</td>\n      <td>1</td>\n      <td>1</td>\n      <td>2668</td>\n      <td>22.3583</td>\n      <td>NaN</td>\n      <td>C</td>\n    </tr>\n  </tbody>\n</table>\n<p>418 rows × 11 columns</p>\n</div>",
      "text/plain": "     PassengerId  Pclass                                          Name  \\\n0            892       3                              Kelly, Mr. James   \n1            893       3              Wilkes, Mrs. James (Ellen Needs)   \n2            894       2                     Myles, Mr. Thomas Francis   \n3            895       3                              Wirz, Mr. Albert   \n4            896       3  Hirvonen, Mrs. Alexander (Helga E Lindqvist)   \n..           ...     ...                                           ...   \n413         1305       3                            Spector, Mr. Woolf   \n414         1306       1                  Oliva y Ocana, Dona. Fermina   \n415         1307       3                  Saether, Mr. Simon Sivertsen   \n416         1308       3                           Ware, Mr. Frederick   \n417         1309       3                      Peter, Master. Michael J   \n\n        Sex   Age  SibSp  Parch              Ticket      Fare Cabin Embarked  \n0      male  34.5      0      0              330911    7.8292   NaN        Q  \n1    female  47.0      1      0              363272    7.0000   NaN        S  \n2      male  62.0      0      0              240276    9.6875   NaN        Q  \n3      male  27.0      0      0              315154    8.6625   NaN        S  \n4    female  22.0      1      1             3101298   12.2875   NaN        S  \n..      ...   ...    ...    ...                 ...       ...   ...      ...  \n413    male   NaN      0      0           A.5. 3236    8.0500   NaN        S  \n414  female  39.0      0      0            PC 17758  108.9000  C105        C  \n415    male  38.5      0      0  SOTON/O.Q. 3101262    7.2500   NaN        S  \n416    male   NaN      0      0              359309    8.0500   NaN        S  \n417    male   NaN      1      1                2668   22.3583   NaN        C  \n\n[418 rows x 11 columns]"
     },
     "execution_count": 90,
     "metadata": {},
     "output_type": "execute_result"
    }
   ],
   "source": [
    "raw\r\n"
   ]
  },
  {
   "cell_type": "code",
   "execution_count": 92,
   "metadata": {},
   "outputs": [
    {
     "data": {
      "text/html": "<div>\n<style scoped>\n    .dataframe tbody tr th:only-of-type {\n        vertical-align: middle;\n    }\n\n    .dataframe tbody tr th {\n        vertical-align: top;\n    }\n\n    .dataframe thead th {\n        text-align: right;\n    }\n</style>\n<table border=\"1\" class=\"dataframe\">\n  <thead>\n    <tr style=\"text-align: right;\">\n      <th></th>\n      <th>Pclass</th>\n      <th>Sex</th>\n      <th>Age</th>\n      <th>SibSp</th>\n      <th>Parch</th>\n      <th>Fare</th>\n    </tr>\n  </thead>\n  <tbody>\n    <tr>\n      <th>0</th>\n      <td>3</td>\n      <td>male</td>\n      <td>34.5</td>\n      <td>0</td>\n      <td>0</td>\n      <td>7.8292</td>\n    </tr>\n    <tr>\n      <th>1</th>\n      <td>3</td>\n      <td>female</td>\n      <td>47.0</td>\n      <td>1</td>\n      <td>0</td>\n      <td>7.0000</td>\n    </tr>\n    <tr>\n      <th>2</th>\n      <td>2</td>\n      <td>male</td>\n      <td>62.0</td>\n      <td>0</td>\n      <td>0</td>\n      <td>9.6875</td>\n    </tr>\n    <tr>\n      <th>3</th>\n      <td>3</td>\n      <td>male</td>\n      <td>27.0</td>\n      <td>0</td>\n      <td>0</td>\n      <td>8.6625</td>\n    </tr>\n    <tr>\n      <th>4</th>\n      <td>3</td>\n      <td>female</td>\n      <td>22.0</td>\n      <td>1</td>\n      <td>1</td>\n      <td>12.2875</td>\n    </tr>\n    <tr>\n      <th>...</th>\n      <td>...</td>\n      <td>...</td>\n      <td>...</td>\n      <td>...</td>\n      <td>...</td>\n      <td>...</td>\n    </tr>\n    <tr>\n      <th>413</th>\n      <td>3</td>\n      <td>male</td>\n      <td>NaN</td>\n      <td>0</td>\n      <td>0</td>\n      <td>8.0500</td>\n    </tr>\n    <tr>\n      <th>414</th>\n      <td>1</td>\n      <td>female</td>\n      <td>39.0</td>\n      <td>0</td>\n      <td>0</td>\n      <td>108.9000</td>\n    </tr>\n    <tr>\n      <th>415</th>\n      <td>3</td>\n      <td>male</td>\n      <td>38.5</td>\n      <td>0</td>\n      <td>0</td>\n      <td>7.2500</td>\n    </tr>\n    <tr>\n      <th>416</th>\n      <td>3</td>\n      <td>male</td>\n      <td>NaN</td>\n      <td>0</td>\n      <td>0</td>\n      <td>8.0500</td>\n    </tr>\n    <tr>\n      <th>417</th>\n      <td>3</td>\n      <td>male</td>\n      <td>NaN</td>\n      <td>1</td>\n      <td>1</td>\n      <td>22.3583</td>\n    </tr>\n  </tbody>\n</table>\n<p>418 rows × 6 columns</p>\n</div>",
      "text/plain": "     Pclass     Sex   Age  SibSp  Parch      Fare\n0         3    male  34.5      0      0    7.8292\n1         3  female  47.0      1      0    7.0000\n2         2    male  62.0      0      0    9.6875\n3         3    male  27.0      0      0    8.6625\n4         3  female  22.0      1      1   12.2875\n..      ...     ...   ...    ...    ...       ...\n413       3    male   NaN      0      0    8.0500\n414       1  female  39.0      0      0  108.9000\n415       3    male  38.5      0      0    7.2500\n416       3    male   NaN      0      0    8.0500\n417       3    male   NaN      1      1   22.3583\n\n[418 rows x 6 columns]"
     },
     "execution_count": 92,
     "metadata": {},
     "output_type": "execute_result"
    }
   ],
   "source": [
    "test_feature=raw.drop(['PassengerId','Name','Ticket','Cabin','Embarked'],axis=1)\r\n",
    "test_feature"
   ]
  },
  {
   "cell_type": "code",
   "execution_count": 94,
   "metadata": {},
   "outputs": [],
   "source": [
    "test_feature=pd.get_dummies(test_feature,columns=['Sex'])"
   ]
  },
  {
   "cell_type": "code",
   "execution_count": 97,
   "metadata": {},
   "outputs": [
    {
     "data": {
      "text/plain": "Pclass         0\nAge           86\nSibSp          0\nParch          0\nFare           1\nSex_female     0\nSex_male       0\ndtype: int64"
     },
     "execution_count": 97,
     "metadata": {},
     "output_type": "execute_result"
    }
   ],
   "source": [
    "test_feature.isna().sum()"
   ]
  },
  {
   "cell_type": "code",
   "execution_count": 109,
   "metadata": {},
   "outputs": [],
   "source": [
    "test_feature['Age'].fillna(test_feature['Age'].mean(),inplace=True)"
   ]
  },
  {
   "cell_type": "code",
   "execution_count": 110,
   "metadata": {},
   "outputs": [
    {
     "data": {
      "text/plain": "Pclass        0\nAge           0\nSibSp         0\nParch         0\nFare          0\nSex_female    0\nSex_male      0\ndtype: int64"
     },
     "execution_count": 110,
     "metadata": {},
     "output_type": "execute_result"
    }
   ],
   "source": [
    "test_feature.isna().sum()"
   ]
  },
  {
   "cell_type": "code",
   "execution_count": 111,
   "metadata": {},
   "outputs": [
    {
     "data": {
      "text/html": "<div>\n<style scoped>\n    .dataframe tbody tr th:only-of-type {\n        vertical-align: middle;\n    }\n\n    .dataframe tbody tr th {\n        vertical-align: top;\n    }\n\n    .dataframe thead th {\n        text-align: right;\n    }\n</style>\n<table border=\"1\" class=\"dataframe\">\n  <thead>\n    <tr style=\"text-align: right;\">\n      <th></th>\n      <th>Pclass</th>\n      <th>Age</th>\n      <th>SibSp</th>\n      <th>Parch</th>\n      <th>Fare</th>\n      <th>Sex_female</th>\n      <th>Sex_male</th>\n    </tr>\n  </thead>\n  <tbody>\n    <tr>\n      <th>0</th>\n      <td>3</td>\n      <td>34.50000</td>\n      <td>0</td>\n      <td>0</td>\n      <td>7.8292</td>\n      <td>0</td>\n      <td>1</td>\n    </tr>\n    <tr>\n      <th>1</th>\n      <td>3</td>\n      <td>47.00000</td>\n      <td>1</td>\n      <td>0</td>\n      <td>7.0000</td>\n      <td>1</td>\n      <td>0</td>\n    </tr>\n    <tr>\n      <th>2</th>\n      <td>2</td>\n      <td>62.00000</td>\n      <td>0</td>\n      <td>0</td>\n      <td>9.6875</td>\n      <td>0</td>\n      <td>1</td>\n    </tr>\n    <tr>\n      <th>3</th>\n      <td>3</td>\n      <td>27.00000</td>\n      <td>0</td>\n      <td>0</td>\n      <td>8.6625</td>\n      <td>0</td>\n      <td>1</td>\n    </tr>\n    <tr>\n      <th>4</th>\n      <td>3</td>\n      <td>22.00000</td>\n      <td>1</td>\n      <td>1</td>\n      <td>12.2875</td>\n      <td>1</td>\n      <td>0</td>\n    </tr>\n    <tr>\n      <th>...</th>\n      <td>...</td>\n      <td>...</td>\n      <td>...</td>\n      <td>...</td>\n      <td>...</td>\n      <td>...</td>\n      <td>...</td>\n    </tr>\n    <tr>\n      <th>413</th>\n      <td>3</td>\n      <td>30.27259</td>\n      <td>0</td>\n      <td>0</td>\n      <td>8.0500</td>\n      <td>0</td>\n      <td>1</td>\n    </tr>\n    <tr>\n      <th>414</th>\n      <td>1</td>\n      <td>39.00000</td>\n      <td>0</td>\n      <td>0</td>\n      <td>108.9000</td>\n      <td>1</td>\n      <td>0</td>\n    </tr>\n    <tr>\n      <th>415</th>\n      <td>3</td>\n      <td>38.50000</td>\n      <td>0</td>\n      <td>0</td>\n      <td>7.2500</td>\n      <td>0</td>\n      <td>1</td>\n    </tr>\n    <tr>\n      <th>416</th>\n      <td>3</td>\n      <td>30.27259</td>\n      <td>0</td>\n      <td>0</td>\n      <td>8.0500</td>\n      <td>0</td>\n      <td>1</td>\n    </tr>\n    <tr>\n      <th>417</th>\n      <td>3</td>\n      <td>30.27259</td>\n      <td>1</td>\n      <td>1</td>\n      <td>22.3583</td>\n      <td>0</td>\n      <td>1</td>\n    </tr>\n  </tbody>\n</table>\n<p>418 rows × 7 columns</p>\n</div>",
      "text/plain": "     Pclass       Age  SibSp  Parch      Fare  Sex_female  Sex_male\n0         3  34.50000      0      0    7.8292           0         1\n1         3  47.00000      1      0    7.0000           1         0\n2         2  62.00000      0      0    9.6875           0         1\n3         3  27.00000      0      0    8.6625           0         1\n4         3  22.00000      1      1   12.2875           1         0\n..      ...       ...    ...    ...       ...         ...       ...\n413       3  30.27259      0      0    8.0500           0         1\n414       1  39.00000      0      0  108.9000           1         0\n415       3  38.50000      0      0    7.2500           0         1\n416       3  30.27259      0      0    8.0500           0         1\n417       3  30.27259      1      1   22.3583           0         1\n\n[418 rows x 7 columns]"
     },
     "execution_count": 111,
     "metadata": {},
     "output_type": "execute_result"
    }
   ],
   "source": [
    "test_feature"
   ]
  },
  {
   "cell_type": "code",
   "execution_count": 112,
   "metadata": {},
   "outputs": [
    {
     "data": {
      "text/plain": "array([[0.8679322 , 0.1320678 ],\n       [0.68016124, 0.3198388 ],\n       [0.898282  , 0.10171802],\n       [0.84890395, 0.15109608],\n       [0.54337484, 0.45662513],\n       [0.76489896, 0.235101  ],\n       [0.5365201 , 0.46347985],\n       [0.8505984 , 0.1494016 ],\n       [0.4418773 , 0.55812263],\n       [0.86130023, 0.13869971],\n       [0.8575059 , 0.14249411],\n       [0.81586415, 0.18413587],\n       [0.5133064 , 0.48669368],\n       [0.8948743 , 0.10512576],\n       [0.41200176, 0.5879982 ],\n       [0.35590503, 0.644095  ],\n       [0.8580209 , 0.14197907],\n       [0.82909465, 0.17090538],\n       [0.5927627 , 0.40723732],\n       [0.5773337 , 0.42266628],\n       [0.7699815 , 0.23001847],\n       [0.5369894 , 0.46301058],\n       [0.13305414, 0.86694586],\n       [0.7197396 , 0.28026035],\n       [0.7990015 , 0.20099849],\n       [0.8998542 , 0.10014586],\n       [0.36980778, 0.6301922 ],\n       [0.8346506 , 0.16534942],\n       [0.7709425 , 0.22905746],\n       [0.86839426, 0.13160571],\n       [0.885539  , 0.114461  ],\n       [0.8705533 , 0.12944673],\n       [0.6570392 , 0.3429607 ],\n       [0.68624765, 0.31375238],\n       [0.8049791 , 0.1950209 ],\n       [0.8174883 , 0.18251172],\n       [0.5345682 , 0.46543175],\n       [0.45493117, 0.5450688 ],\n       [0.8434759 , 0.15652408],\n       [0.8196621 , 0.1803379 ],\n       [0.8755312 , 0.12446875],\n       [0.77159417, 0.22840591],\n       [0.88294536, 0.11705467],\n       [0.32703695, 0.6729631 ],\n       [0.3774521 , 0.62254786],\n       [0.8428678 , 0.15713225],\n       [0.7851455 , 0.21485445],\n       [0.8574842 , 0.14251578],\n       [0.4282092 , 0.5717909 ],\n       [0.6348603 , 0.3651397 ],\n       [0.80903244, 0.19096753],\n       [0.83699244, 0.16300753],\n       [0.6674796 , 0.3325204 ],\n       [0.8019167 , 0.19808324],\n       [0.84644246, 0.15355754],\n       [0.91384983, 0.08615018],\n       [0.86908734, 0.13091275],\n       [0.84276795, 0.15723203],\n       [0.8632931 , 0.13670686],\n       [0.76037747, 0.23962258],\n       [0.8054893 , 0.1945107 ],\n       [0.8517582 , 0.14824176],\n       [0.81429833, 0.1857017 ],\n       [0.4877643 , 0.5122357 ],\n       [0.7638405 , 0.23615953],\n       [0.28888473, 0.71111536],\n       [0.43002692, 0.5699731 ],\n       [0.70537204, 0.294628  ],\n       [0.7630387 , 0.2369613 ],\n       [0.8075604 , 0.19243963],\n       [0.5082461 , 0.49175388],\n       [0.8293108 , 0.17068923],\n       [0.531816  , 0.468184  ],\n       [0.7597353 , 0.24026467],\n       [0.7009263 , 0.29907376],\n       [0.8013328 , 0.19866718],\n       [0.8575302 , 0.14246984],\n       [0.4446371 , 0.55536294],\n       [0.8468647 , 0.15313536],\n       [0.5082461 , 0.49175388],\n       [0.10168351, 0.8983165 ],\n       [0.8319002 , 0.16809982],\n       [0.8214746 , 0.17852537],\n       [0.8575059 , 0.14249411],\n       [0.8474594 , 0.15254061],\n       [0.8623096 , 0.1376904 ],\n       [0.5258506 , 0.47414947],\n       [0.42693546, 0.5730645 ],\n       [0.5364819 , 0.46351814],\n       [0.0976585 , 0.90234154],\n       [0.56690824, 0.43309173],\n       [0.8574873 , 0.14251263],\n       [0.43104562, 0.56895435],\n       [0.8575302 , 0.14246984],\n       [0.7546592 , 0.24534085],\n       [0.8428203 , 0.15717968],\n       [0.5262052 , 0.47379482],\n       [0.85416687, 0.14583312],\n       [0.45826182, 0.5417382 ],\n       [0.86421746, 0.13578258],\n       [0.3849347 , 0.6150653 ],\n       [0.84880096, 0.15119907],\n       [0.8574842 , 0.14251578],\n       [0.84576774, 0.15423223],\n       [0.38829914, 0.6117009 ],\n       [0.84699756, 0.15300238],\n       [0.8292867 , 0.17071329],\n       [0.8574842 , 0.14251578],\n       [0.85765254, 0.1423474 ],\n       [0.7948161 , 0.2051839 ],\n       [0.8667547 , 0.13324529],\n       [0.53630286, 0.46369717],\n       [0.13643184, 0.8635682 ],\n       [0.44791615, 0.55208385],\n       [0.7418031 , 0.25819683],\n       [0.81993586, 0.18006417],\n       [0.8585176 , 0.14148243],\n       [0.10993652, 0.89006346],\n       [0.662112  , 0.33788797],\n       [0.36392215, 0.6360779 ],\n       [0.15270366, 0.8472963 ],\n       [0.85882145, 0.14117853],\n       [0.38719648, 0.6128035 ],\n       [0.851361  , 0.14863905],\n       [0.8574842 , 0.14251578],\n       [0.47381184, 0.52618814],\n       [0.8331139 , 0.16688609],\n       [0.6958673 , 0.3041327 ],\n       [0.8686839 , 0.13131616],\n       [0.83982164, 0.16017832],\n       [0.8618637 , 0.13813636],\n       [0.8135767 , 0.18642329],\n       [0.66324675, 0.33675325],\n       [0.8593864 , 0.14061357],\n       [0.88710135, 0.11289861],\n       [0.8397581 , 0.16024192],\n       [0.84712183, 0.15287817],\n       [0.83501935, 0.16498058],\n       [0.4923417 , 0.50765824],\n       [0.89901274, 0.10098728],\n       [0.9132967 , 0.08670329],\n       [0.6094286 , 0.3905714 ],\n       [0.86654913, 0.13345091],\n       [0.82641107, 0.17358887],\n       [0.8026061 , 0.19739386],\n       [0.8617931 , 0.13820682],\n       [0.6711035 , 0.32889652],\n       [0.8331904 , 0.16680968],\n       [0.77159417, 0.22840591],\n       [0.85722727, 0.14277272],\n       [0.47050458, 0.5294955 ],\n       [0.8575059 , 0.14249411],\n       [0.89478034, 0.10521968],\n       [0.6441975 , 0.35580248],\n       [0.91419023, 0.08580977],\n       [0.8396623 , 0.16033763],\n       [0.70306736, 0.29693267],\n       [0.49628088, 0.50371915],\n       [0.8026061 , 0.19739386],\n       [0.583152  , 0.41684803],\n       [0.53658426, 0.46341577],\n       [0.38411567, 0.6158843 ],\n       [0.28785145, 0.71214855],\n       [0.8577829 , 0.14221707],\n       [0.8671584 , 0.13284151],\n       [0.6571276 , 0.34287238],\n       [0.6661461 , 0.3338539 ],\n       [0.87618434, 0.12381563],\n       [0.1319503 , 0.8680497 ],\n       [0.46131527, 0.5386847 ],\n       [0.85752666, 0.14247333],\n       [0.8485533 , 0.15144671],\n       [0.8409509 , 0.15904905],\n       [0.857661  , 0.14233902],\n       [0.87697583, 0.12302419],\n       [0.34561968, 0.6543804 ],\n       [0.29094103, 0.709059  ],\n       [0.7827923 , 0.21720764],\n       [0.47768024, 0.5223197 ],\n       [0.5333936 , 0.46660644],\n       [0.8468647 , 0.15313536],\n       [0.82707447, 0.17292549],\n       [0.36749294, 0.6325071 ],\n       [0.8574842 , 0.14251578],\n       [0.74530274, 0.2546973 ],\n       [0.86532897, 0.13467109],\n       [0.31008038, 0.6899196 ],\n       [0.79845804, 0.20154196],\n       [0.96654874, 0.03345123],\n       [0.865732  , 0.13426799],\n       [0.86348087, 0.1365191 ],\n       [0.77438474, 0.2256153 ],\n       [0.72198576, 0.2780142 ],\n       [0.8918792 , 0.10812081],\n       [0.33952174, 0.6604783 ],\n       [0.86427265, 0.13572733],\n       [0.55297536, 0.44702464],\n       [0.4318966 , 0.5681034 ],\n       [0.825381  , 0.174619  ],\n       [0.53413844, 0.46586156],\n       [0.42564666, 0.57435334],\n       [0.05861142, 0.94138855],\n       [0.8323066 , 0.16769335],\n       [0.5063188 , 0.4936812 ],\n       [0.8326317 , 0.1673683 ],\n       [0.77571887, 0.22428122],\n       [0.547093  , 0.45290703],\n       [0.829174  , 0.17082603],\n       [0.13351746, 0.86648256],\n       [0.84285706, 0.157143  ],\n       [0.85955125, 0.14044878],\n       [0.8577508 , 0.14224921],\n       [0.7299457 , 0.27005428],\n       [0.5206761 , 0.47932395],\n       [0.54751295, 0.45248705],\n       [0.7029088 , 0.29709122],\n       [0.53568095, 0.4643191 ],\n       [0.8138505 , 0.1861495 ],\n       [0.7342306 , 0.26576936],\n       [0.8575302 , 0.14246984],\n       [0.38547322, 0.6145268 ],\n       [0.82936335, 0.17063667],\n       [0.2878367 , 0.71216327],\n       [0.82927865, 0.17072132],\n       [0.28886002, 0.71114   ],\n       [0.60736614, 0.3926339 ],\n       [0.83654004, 0.16345991],\n       [0.5364819 , 0.46351814],\n       [0.88138866, 0.1186113 ],\n       [0.8597334 , 0.1402666 ],\n       [0.71306777, 0.28693223],\n       [0.12445251, 0.87554747],\n       [0.829499  , 0.170501  ],\n       [0.85750324, 0.14249672],\n       [0.7784512 , 0.22154883],\n       [0.8251385 , 0.17486154],\n       [0.71549463, 0.2845053 ],\n       [0.8249874 , 0.17501263],\n       [0.40133688, 0.59866315],\n       [0.5608885 , 0.43911147],\n       [0.31400752, 0.68599254],\n       [0.44301948, 0.55698055],\n       [0.8131814 , 0.18681854],\n       [0.8575046 , 0.1424954 ],\n       [0.8587088 , 0.14129122],\n       [0.8041918 , 0.19580816],\n       [0.17061968, 0.82938033],\n       [0.88131887, 0.11868113],\n       [0.36392215, 0.6360779 ],\n       [0.59094083, 0.40905914],\n       [0.11329005, 0.88671   ],\n       [0.8251496 , 0.17485034],\n       [0.7994858 , 0.20051421],\n       [0.84031   , 0.15968998],\n       [0.8632685 , 0.13673148],\n       [0.85752666, 0.14247331],\n       [0.8574842 , 0.14251578],\n       [0.8514699 , 0.1485301 ],\n       [0.26200905, 0.7379909 ],\n       [0.82927203, 0.17072797],\n       [0.8779563 , 0.12204369],\n       [0.8292974 , 0.17070255],\n       [0.3802227 , 0.6197773 ],\n       [0.10905153, 0.8909485 ],\n       [0.84686786, 0.15313214],\n       [0.8575059 , 0.14249411],\n       [0.89016664, 0.1098334 ],\n       [0.85752666, 0.14247333],\n       [0.5345682 , 0.46543175],\n       [0.80573535, 0.19426464],\n       [0.65970355, 0.34029645],\n       [0.8574842 , 0.14251578],\n       [0.608823  , 0.391177  ],\n       [0.58606523, 0.41393474],\n       [0.85766286, 0.14233713],\n       [0.34929377, 0.65070623],\n       [0.8415401 , 0.15845987],\n       [0.87391865, 0.12608135],\n       [0.8541881 , 0.14581195],\n       [0.82106996, 0.17893007],\n       [0.47970587, 0.5202941 ],\n       [0.06718384, 0.9328162 ],\n       [0.5364819 , 0.46351814],\n       [0.55414647, 0.4458535 ],\n       [0.1098565 , 0.89014345],\n       [0.8721321 , 0.12786786],\n       [0.85765153, 0.14234848],\n       [0.7959435 , 0.20405647],\n       [0.857661  , 0.14233902],\n       [0.8575302 , 0.14246984],\n       [0.70268077, 0.29731923],\n       [0.5406072 , 0.4593927 ],\n       [0.857661  , 0.14233902],\n       [0.8067316 , 0.19326843],\n       [0.87082905, 0.12917098],\n       [0.8458136 , 0.1541865 ],\n       [0.11419795, 0.88580203],\n       [0.86839426, 0.13160571],\n       [0.6814004 , 0.31859958],\n       [0.85415477, 0.14584526],\n       [0.8619284 , 0.13807154],\n       [0.84671116, 0.15328886],\n       [0.87412065, 0.12587933],\n       [0.84004754, 0.15995246],\n       [0.5364819 , 0.46351814],\n       [0.48790833, 0.5120917 ],\n       [0.846796  , 0.15320405],\n       [0.0562421 , 0.9437579 ],\n       [0.7981876 , 0.20181236],\n       [0.6314087 , 0.36859134],\n       [0.81439024, 0.18560974],\n       [0.8328926 , 0.16710733],\n       [0.85751754, 0.14248243],\n       [0.55182534, 0.4481747 ],\n       [0.5840239 , 0.4159761 ],\n       [0.41815445, 0.5818455 ],\n       [0.777636  , 0.22236404],\n       [0.80276465, 0.1972353 ],\n       [0.84864235, 0.15135764],\n       [0.86849254, 0.13150747],\n       [0.84576774, 0.15423223],\n       [0.8426531 , 0.15734693],\n       [0.83501935, 0.16498058],\n       [0.7790075 , 0.2209925 ],\n       [0.70238805, 0.2976119 ],\n       [0.83631897, 0.163681  ],\n       [0.7278971 , 0.27210292],\n       [0.6644002 , 0.3355998 ],\n       [0.85327536, 0.14672466],\n       [0.81246054, 0.18753947],\n       [0.45549646, 0.5445035 ],\n       [0.7729835 , 0.22701651],\n       [0.85766286, 0.14233713],\n       [0.5894003 , 0.41059968],\n       [0.8486496 , 0.15135032],\n       [0.7736109 , 0.22638908],\n       [0.85178244, 0.14821762],\n       [0.8752902 , 0.12470981],\n       [0.80106235, 0.19893764],\n       [0.857661  , 0.14233902],\n       [0.7953143 , 0.20468573],\n       [0.8619911 , 0.13800886],\n       [0.9042723 , 0.09572763],\n       [0.8878727 , 0.11212727],\n       [0.8564158 , 0.14358427],\n       [0.40491548, 0.59508455],\n       [0.83501935, 0.16498058],\n       [0.5581054 , 0.44189456],\n       [0.82698756, 0.17301248],\n       [0.2878105 , 0.7121895 ],\n       [0.39981437, 0.60018563],\n       [0.8326317 , 0.1673683 ],\n       [0.73135436, 0.2686456 ],\n       [0.8895895 , 0.11041056],\n       [0.10413109, 0.8958689 ],\n       [0.82346773, 0.17653225],\n       [0.47887647, 0.5211235 ],\n       [0.85750324, 0.14249672],\n       [0.8574842 , 0.14251578],\n       [0.5851608 , 0.41483924],\n       [0.9823706 , 0.01762936],\n       [0.44825768, 0.55174226],\n       [0.2878105 , 0.7121895 ],\n       [0.84890395, 0.15109608],\n       [0.37533227, 0.6246677 ],\n       [0.84996784, 0.15003213],\n       [0.86231214, 0.1376878 ],\n       [0.3678444 , 0.6321556 ],\n       [0.38407594, 0.6159241 ],\n       [0.8438034 , 0.1561966 ],\n       [0.82229644, 0.17770348],\n       [0.5812904 , 0.4187096 ],\n       [0.9287154 , 0.07128464],\n       [0.87158126, 0.12841868],\n       [0.5350547 , 0.46494535],\n       [0.7694315 , 0.23056857],\n       [0.48045644, 0.5195436 ],\n       [0.81457293, 0.1854271 ],\n       [0.6684255 , 0.3315744 ],\n       [0.89618796, 0.10381197],\n       [0.8574842 , 0.14251578],\n       [0.84580725, 0.15419275],\n       [0.4358038 , 0.5641962 ],\n       [0.5807013 , 0.4192987 ],\n       [0.84755707, 0.15244298],\n       [0.55927753, 0.4407225 ],\n       [0.83973396, 0.1602661 ],\n       [0.88714284, 0.1128572 ],\n       [0.829264  , 0.170736  ],\n       [0.8590135 , 0.1409865 ],\n       [0.6795691 , 0.3204309 ],\n       [0.34134513, 0.6586549 ],\n       [0.6398761 , 0.36012396],\n       [0.8776898 , 0.12231016],\n       [0.8639937 , 0.13600633],\n       [0.39892223, 0.6010777 ],\n       [0.83955866, 0.16044137],\n       [0.52940136, 0.4705986 ],\n       [0.83310527, 0.16689467],\n       [0.8593915 , 0.14060855],\n       [0.62967694, 0.37032303],\n       [0.8718147 , 0.12818529],\n       [0.35991395, 0.64008605],\n       [0.6674166 , 0.33258343],\n       [0.849829  , 0.15017101],\n       [0.80439997, 0.19560005],\n       [0.82916814, 0.1708318 ],\n       [0.8345741 , 0.16542593],\n       [0.5366604 , 0.46333966],\n       [0.10774065, 0.8922593 ],\n       [0.5364819 , 0.46351814],\n       [0.5325308 , 0.46746922],\n       [0.5298005 , 0.47019953],\n       [0.8575302 , 0.14246984],\n       [0.5387524 , 0.46124765],\n       [0.8781523 , 0.1218477 ],\n       [0.8575302 , 0.14246985],\n       [0.861986  , 0.13801405]], dtype=float32)"
     },
     "execution_count": 112,
     "metadata": {},
     "output_type": "execute_result"
    }
   ],
   "source": [
    "model.predict(test_feature)"
   ]
  },
  {
   "cell_type": "code",
   "execution_count": 113,
   "metadata": {},
   "outputs": [],
   "source": [
    "# convert array into dataframe\r\n",
    "\r\n",
    "result=pd.DataFrame(model.predict(test_feature))"
   ]
  },
  {
   "cell_type": "code",
   "execution_count": 114,
   "metadata": {},
   "outputs": [],
   "source": [
    "result.to_csv(\"Prediction.csv\")"
   ]
  },
  {
   "cell_type": "code",
   "execution_count": 118,
   "metadata": {},
   "outputs": [],
   "source": [
    "test=pd.read_csv('D:/python/CSV Files/Prediction.csv')"
   ]
  },
  {
   "cell_type": "code",
   "execution_count": 119,
   "metadata": {},
   "outputs": [
    {
     "data": {
      "text/html": "<div>\n<style scoped>\n    .dataframe tbody tr th:only-of-type {\n        vertical-align: middle;\n    }\n\n    .dataframe tbody tr th {\n        vertical-align: top;\n    }\n\n    .dataframe thead th {\n        text-align: right;\n    }\n</style>\n<table border=\"1\" class=\"dataframe\">\n  <thead>\n    <tr style=\"text-align: right;\">\n      <th></th>\n      <th>Unnamed: 0</th>\n      <th>Not_Survived</th>\n      <th>Survived</th>\n    </tr>\n  </thead>\n  <tbody>\n    <tr>\n      <th>0</th>\n      <td>0</td>\n      <td>0.867932</td>\n      <td>0.132068</td>\n    </tr>\n    <tr>\n      <th>1</th>\n      <td>1</td>\n      <td>0.680161</td>\n      <td>0.319839</td>\n    </tr>\n    <tr>\n      <th>2</th>\n      <td>2</td>\n      <td>0.898282</td>\n      <td>0.101718</td>\n    </tr>\n    <tr>\n      <th>3</th>\n      <td>3</td>\n      <td>0.848904</td>\n      <td>0.151096</td>\n    </tr>\n    <tr>\n      <th>4</th>\n      <td>4</td>\n      <td>0.543375</td>\n      <td>0.456625</td>\n    </tr>\n    <tr>\n      <th>...</th>\n      <td>...</td>\n      <td>...</td>\n      <td>...</td>\n    </tr>\n    <tr>\n      <th>413</th>\n      <td>413</td>\n      <td>0.857530</td>\n      <td>0.142470</td>\n    </tr>\n    <tr>\n      <th>414</th>\n      <td>414</td>\n      <td>0.538752</td>\n      <td>0.461248</td>\n    </tr>\n    <tr>\n      <th>415</th>\n      <td>415</td>\n      <td>0.878152</td>\n      <td>0.121848</td>\n    </tr>\n    <tr>\n      <th>416</th>\n      <td>416</td>\n      <td>0.857530</td>\n      <td>0.142470</td>\n    </tr>\n    <tr>\n      <th>417</th>\n      <td>417</td>\n      <td>0.861986</td>\n      <td>0.138014</td>\n    </tr>\n  </tbody>\n</table>\n<p>418 rows × 3 columns</p>\n</div>",
      "text/plain": "     Unnamed: 0  Not_Survived  Survived\n0             0      0.867932  0.132068\n1             1      0.680161  0.319839\n2             2      0.898282  0.101718\n3             3      0.848904  0.151096\n4             4      0.543375  0.456625\n..          ...           ...       ...\n413         413      0.857530  0.142470\n414         414      0.538752  0.461248\n415         415      0.878152  0.121848\n416         416      0.857530  0.142470\n417         417      0.861986  0.138014\n\n[418 rows x 3 columns]"
     },
     "execution_count": 119,
     "metadata": {},
     "output_type": "execute_result"
    }
   ],
   "source": [
    "test"
   ]
  },
  {
   "cell_type": "code",
   "execution_count": 124,
   "metadata": {},
   "outputs": [],
   "source": [
    "import numpy as np\r\n",
    "Survived = np.argmax(model.predict(test_feature), axis=1) "
   ]
  },
  {
   "cell_type": "code",
   "execution_count": 125,
   "metadata": {},
   "outputs": [
    {
     "data": {
      "text/plain": "array([0, 0, 0, 0, 0, 0, 0, 0, 1, 0, 0, 0, 0, 0, 1, 1, 0, 0, 0, 0, 0, 0,\n       1, 0, 0, 0, 1, 0, 0, 0, 0, 0, 0, 0, 0, 0, 0, 1, 0, 0, 0, 0, 0, 1,\n       1, 0, 0, 0, 1, 0, 0, 0, 0, 0, 0, 0, 0, 0, 0, 0, 0, 0, 0, 1, 0, 1,\n       1, 0, 0, 0, 0, 0, 0, 0, 0, 0, 0, 1, 0, 0, 1, 0, 0, 0, 0, 0, 0, 1,\n       0, 1, 0, 0, 1, 0, 0, 0, 0, 0, 1, 0, 1, 0, 0, 0, 1, 0, 0, 0, 0, 0,\n       0, 0, 1, 1, 0, 0, 0, 1, 0, 1, 1, 0, 1, 0, 0, 1, 0, 0, 0, 0, 0, 0,\n       0, 0, 0, 0, 0, 0, 1, 0, 0, 0, 0, 0, 0, 0, 0, 0, 0, 0, 1, 0, 0, 0,\n       0, 0, 0, 1, 0, 0, 0, 1, 1, 0, 0, 0, 0, 0, 1, 1, 0, 0, 0, 0, 0, 1,\n       1, 0, 1, 0, 0, 0, 1, 0, 0, 0, 1, 0, 0, 0, 0, 0, 0, 0, 1, 0, 0, 1,\n       0, 0, 1, 1, 0, 0, 0, 0, 0, 0, 1, 0, 0, 0, 0, 0, 0, 0, 0, 0, 0, 0,\n       1, 0, 1, 0, 1, 0, 0, 0, 0, 0, 0, 1, 0, 0, 0, 0, 0, 0, 1, 0, 1, 1,\n       0, 0, 0, 0, 1, 0, 1, 0, 1, 0, 0, 0, 0, 0, 0, 0, 1, 0, 0, 0, 1, 1,\n       0, 0, 0, 0, 0, 0, 0, 0, 0, 0, 0, 1, 0, 0, 0, 0, 1, 1, 0, 0, 1, 0,\n       0, 0, 0, 0, 0, 0, 0, 0, 0, 0, 1, 0, 0, 0, 0, 0, 0, 0, 0, 1, 0, 1,\n       0, 0, 0, 0, 0, 0, 0, 1, 0, 0, 0, 0, 0, 0, 0, 0, 0, 0, 0, 0, 0, 0,\n       1, 0, 0, 0, 0, 0, 0, 0, 0, 0, 0, 0, 0, 0, 0, 1, 0, 0, 0, 1, 1, 0,\n       0, 0, 1, 0, 1, 0, 0, 0, 0, 1, 1, 0, 1, 0, 0, 1, 1, 0, 0, 0, 0, 0,\n       0, 0, 1, 0, 0, 0, 0, 0, 1, 0, 0, 0, 0, 0, 0, 0, 0, 1, 0, 0, 0, 1,\n       0, 0, 0, 0, 0, 0, 1, 0, 0, 0, 0, 0, 0, 1, 0, 0, 0, 0, 0, 0, 0, 0],\n      dtype=int64)"
     },
     "execution_count": 125,
     "metadata": {},
     "output_type": "execute_result"
    }
   ],
   "source": [
    "Survived"
   ]
  },
  {
   "cell_type": "code",
   "execution_count": 192,
   "metadata": {},
   "outputs": [
    {
     "data": {
      "text/plain": "pandas.core.frame.DataFrame"
     },
     "execution_count": 192,
     "metadata": {},
     "output_type": "execute_result"
    }
   ],
   "source": [
    "type(Survived)"
   ]
  },
  {
   "cell_type": "code",
   "execution_count": 170,
   "metadata": {},
   "outputs": [],
   "source": [
    "Survived=pd.DataFrame(Survived)"
   ]
  },
  {
   "cell_type": "code",
   "execution_count": 199,
   "metadata": {},
   "outputs": [],
   "source": [
    "Survived.to_csv('D:/python/CSV Files/Predictions.csv')"
   ]
  },
  {
   "cell_type": "code",
   "execution_count": 202,
   "metadata": {},
   "outputs": [],
   "source": [
    "may=pd.read_csv('D:/python/CSV Files/Predictions.csv')"
   ]
  },
  {
   "cell_type": "code",
   "execution_count": 203,
   "metadata": {},
   "outputs": [
    {
     "data": {
      "text/html": "<div>\n<style scoped>\n    .dataframe tbody tr th:only-of-type {\n        vertical-align: middle;\n    }\n\n    .dataframe tbody tr th {\n        vertical-align: top;\n    }\n\n    .dataframe thead th {\n        text-align: right;\n    }\n</style>\n<table border=\"1\" class=\"dataframe\">\n  <thead>\n    <tr style=\"text-align: right;\">\n      <th></th>\n      <th>PassengerId</th>\n      <th>0</th>\n    </tr>\n  </thead>\n  <tbody>\n    <tr>\n      <th>0</th>\n      <td>0</td>\n      <td>0</td>\n    </tr>\n    <tr>\n      <th>1</th>\n      <td>1</td>\n      <td>0</td>\n    </tr>\n    <tr>\n      <th>2</th>\n      <td>2</td>\n      <td>0</td>\n    </tr>\n    <tr>\n      <th>3</th>\n      <td>3</td>\n      <td>0</td>\n    </tr>\n    <tr>\n      <th>4</th>\n      <td>4</td>\n      <td>0</td>\n    </tr>\n    <tr>\n      <th>...</th>\n      <td>...</td>\n      <td>...</td>\n    </tr>\n    <tr>\n      <th>413</th>\n      <td>413</td>\n      <td>0</td>\n    </tr>\n    <tr>\n      <th>414</th>\n      <td>414</td>\n      <td>0</td>\n    </tr>\n    <tr>\n      <th>415</th>\n      <td>415</td>\n      <td>0</td>\n    </tr>\n    <tr>\n      <th>416</th>\n      <td>416</td>\n      <td>0</td>\n    </tr>\n    <tr>\n      <th>417</th>\n      <td>417</td>\n      <td>0</td>\n    </tr>\n  </tbody>\n</table>\n<p>418 rows × 2 columns</p>\n</div>",
      "text/plain": "     PassengerId  0\n0              0  0\n1              1  0\n2              2  0\n3              3  0\n4              4  0\n..           ... ..\n413          413  0\n414          414  0\n415          415  0\n416          416  0\n417          417  0\n\n[418 rows x 2 columns]"
     },
     "execution_count": 203,
     "metadata": {},
     "output_type": "execute_result"
    }
   ],
   "source": [
    "may"
   ]
  },
  {
   "cell_type": "code",
   "execution_count": 204,
   "metadata": {},
   "outputs": [],
   "source": [
    "gray=may['PassengerId'].add(892)"
   ]
  },
  {
   "cell_type": "code",
   "execution_count": 209,
   "metadata": {},
   "outputs": [
    {
     "data": {
      "text/plain": "0       892\n1       893\n2       894\n3       895\n4       896\n       ... \n413    1305\n414    1306\n415    1307\n416    1308\n417    1309\nName: PassengerId, Length: 418, dtype: int64"
     },
     "execution_count": 209,
     "metadata": {},
     "output_type": "execute_result"
    }
   ],
   "source": [
    "gray"
   ]
  },
  {
   "cell_type": "code",
   "execution_count": 210,
   "metadata": {},
   "outputs": [],
   "source": [
    "gray.to_csv('D:/python/CSV Files/Final_Predictions.csv')"
   ]
  },
  {
   "cell_type": "code",
   "execution_count": 213,
   "metadata": {},
   "outputs": [],
   "source": [
    "Survived = may[\"0\"]"
   ]
  },
  {
   "cell_type": "code",
   "execution_count": 214,
   "metadata": {},
   "outputs": [],
   "source": [
    "gray = pd.concat([gray,Survived], axis = 1)"
   ]
  },
  {
   "cell_type": "code",
   "execution_count": 215,
   "metadata": {},
   "outputs": [
    {
     "data": {
      "text/html": "<div>\n<style scoped>\n    .dataframe tbody tr th:only-of-type {\n        vertical-align: middle;\n    }\n\n    .dataframe tbody tr th {\n        vertical-align: top;\n    }\n\n    .dataframe thead th {\n        text-align: right;\n    }\n</style>\n<table border=\"1\" class=\"dataframe\">\n  <thead>\n    <tr style=\"text-align: right;\">\n      <th></th>\n      <th>PassengerId</th>\n      <th>0</th>\n    </tr>\n  </thead>\n  <tbody>\n    <tr>\n      <th>0</th>\n      <td>892</td>\n      <td>0</td>\n    </tr>\n    <tr>\n      <th>1</th>\n      <td>893</td>\n      <td>0</td>\n    </tr>\n    <tr>\n      <th>2</th>\n      <td>894</td>\n      <td>0</td>\n    </tr>\n    <tr>\n      <th>3</th>\n      <td>895</td>\n      <td>0</td>\n    </tr>\n    <tr>\n      <th>4</th>\n      <td>896</td>\n      <td>0</td>\n    </tr>\n    <tr>\n      <th>...</th>\n      <td>...</td>\n      <td>...</td>\n    </tr>\n    <tr>\n      <th>413</th>\n      <td>1305</td>\n      <td>0</td>\n    </tr>\n    <tr>\n      <th>414</th>\n      <td>1306</td>\n      <td>0</td>\n    </tr>\n    <tr>\n      <th>415</th>\n      <td>1307</td>\n      <td>0</td>\n    </tr>\n    <tr>\n      <th>416</th>\n      <td>1308</td>\n      <td>0</td>\n    </tr>\n    <tr>\n      <th>417</th>\n      <td>1309</td>\n      <td>0</td>\n    </tr>\n  </tbody>\n</table>\n<p>418 rows × 2 columns</p>\n</div>",
      "text/plain": "     PassengerId  0\n0            892  0\n1            893  0\n2            894  0\n3            895  0\n4            896  0\n..           ... ..\n413         1305  0\n414         1306  0\n415         1307  0\n416         1308  0\n417         1309  0\n\n[418 rows x 2 columns]"
     },
     "execution_count": 215,
     "metadata": {},
     "output_type": "execute_result"
    }
   ],
   "source": [
    "gray"
   ]
  },
  {
   "cell_type": "code",
   "execution_count": 216,
   "metadata": {},
   "outputs": [],
   "source": [
    "gray.to_csv('D:/python/CSV Files/Final_Predictions.csv')"
   ]
  },
  {
   "cell_type": "code",
   "execution_count": 231,
   "metadata": {},
   "outputs": [],
   "source": [
    "gray=pd.read_csv('D:/python/CSV Files/Final_Predictions.csv',index_col=0)"
   ]
  },
  {
   "cell_type": "code",
   "execution_count": 232,
   "metadata": {},
   "outputs": [
    {
     "data": {
      "text/html": "<div>\n<style scoped>\n    .dataframe tbody tr th:only-of-type {\n        vertical-align: middle;\n    }\n\n    .dataframe tbody tr th {\n        vertical-align: top;\n    }\n\n    .dataframe thead th {\n        text-align: right;\n    }\n</style>\n<table border=\"1\" class=\"dataframe\">\n  <thead>\n    <tr style=\"text-align: right;\">\n      <th></th>\n      <th>s</th>\n      <th>PassengerId</th>\n      <th>Survived</th>\n    </tr>\n  </thead>\n  <tbody>\n    <tr>\n      <th>0</th>\n      <td>0</td>\n      <td>892</td>\n      <td>0</td>\n    </tr>\n    <tr>\n      <th>1</th>\n      <td>1</td>\n      <td>893</td>\n      <td>0</td>\n    </tr>\n    <tr>\n      <th>2</th>\n      <td>2</td>\n      <td>894</td>\n      <td>0</td>\n    </tr>\n    <tr>\n      <th>3</th>\n      <td>3</td>\n      <td>895</td>\n      <td>0</td>\n    </tr>\n    <tr>\n      <th>4</th>\n      <td>4</td>\n      <td>896</td>\n      <td>0</td>\n    </tr>\n    <tr>\n      <th>...</th>\n      <td>...</td>\n      <td>...</td>\n      <td>...</td>\n    </tr>\n    <tr>\n      <th>413</th>\n      <td>413</td>\n      <td>1305</td>\n      <td>0</td>\n    </tr>\n    <tr>\n      <th>414</th>\n      <td>414</td>\n      <td>1306</td>\n      <td>0</td>\n    </tr>\n    <tr>\n      <th>415</th>\n      <td>415</td>\n      <td>1307</td>\n      <td>0</td>\n    </tr>\n    <tr>\n      <th>416</th>\n      <td>416</td>\n      <td>1308</td>\n      <td>0</td>\n    </tr>\n    <tr>\n      <th>417</th>\n      <td>417</td>\n      <td>1309</td>\n      <td>0</td>\n    </tr>\n  </tbody>\n</table>\n<p>418 rows × 3 columns</p>\n</div>",
      "text/plain": "       s  PassengerId  Survived\n0      0          892         0\n1      1          893         0\n2      2          894         0\n3      3          895         0\n4      4          896         0\n..   ...          ...       ...\n413  413         1305         0\n414  414         1306         0\n415  415         1307         0\n416  416         1308         0\n417  417         1309         0\n\n[418 rows x 3 columns]"
     },
     "execution_count": 232,
     "metadata": {},
     "output_type": "execute_result"
    }
   ],
   "source": [
    "gray"
   ]
  },
  {
   "cell_type": "code",
   "execution_count": 233,
   "metadata": {},
   "outputs": [
    {
     "data": {
      "text/html": "<div>\n<style scoped>\n    .dataframe tbody tr th:only-of-type {\n        vertical-align: middle;\n    }\n\n    .dataframe tbody tr th {\n        vertical-align: top;\n    }\n\n    .dataframe thead th {\n        text-align: right;\n    }\n</style>\n<table border=\"1\" class=\"dataframe\">\n  <thead>\n    <tr style=\"text-align: right;\">\n      <th></th>\n      <th>PassengerId</th>\n      <th>Survived</th>\n    </tr>\n  </thead>\n  <tbody>\n    <tr>\n      <th>0</th>\n      <td>892</td>\n      <td>0</td>\n    </tr>\n    <tr>\n      <th>1</th>\n      <td>893</td>\n      <td>0</td>\n    </tr>\n    <tr>\n      <th>2</th>\n      <td>894</td>\n      <td>0</td>\n    </tr>\n    <tr>\n      <th>3</th>\n      <td>895</td>\n      <td>0</td>\n    </tr>\n    <tr>\n      <th>4</th>\n      <td>896</td>\n      <td>0</td>\n    </tr>\n    <tr>\n      <th>...</th>\n      <td>...</td>\n      <td>...</td>\n    </tr>\n    <tr>\n      <th>413</th>\n      <td>1305</td>\n      <td>0</td>\n    </tr>\n    <tr>\n      <th>414</th>\n      <td>1306</td>\n      <td>0</td>\n    </tr>\n    <tr>\n      <th>415</th>\n      <td>1307</td>\n      <td>0</td>\n    </tr>\n    <tr>\n      <th>416</th>\n      <td>1308</td>\n      <td>0</td>\n    </tr>\n    <tr>\n      <th>417</th>\n      <td>1309</td>\n      <td>0</td>\n    </tr>\n  </tbody>\n</table>\n<p>418 rows × 2 columns</p>\n</div>",
      "text/plain": "     PassengerId  Survived\n0            892         0\n1            893         0\n2            894         0\n3            895         0\n4            896         0\n..           ...       ...\n413         1305         0\n414         1306         0\n415         1307         0\n416         1308         0\n417         1309         0\n\n[418 rows x 2 columns]"
     },
     "execution_count": 233,
     "metadata": {},
     "output_type": "execute_result"
    }
   ],
   "source": [
    "gray.drop('s',axis=1)"
   ]
  },
  {
   "cell_type": "code",
   "execution_count": 234,
   "metadata": {},
   "outputs": [],
   "source": [
    "gray.to_csv('D:/python/CSV Files/Final_Predictions.csv')"
   ]
  },
  {
   "cell_type": "code",
   "execution_count": null,
   "metadata": {},
   "outputs": [],
   "source": []
  }
 ],
 "metadata": {
  "kernelspec": {
   "display_name": "Python 3.8.5 64-bit (conda)",
   "metadata": {
    "interpreter": {
     "hash": "703eb0b2cebe7487524b5d8d66739fadfc2748549a47fadd62d322a8fd06eee6"
    }
   },
   "name": "python3"
  },
  "language_info": {
   "codemirror_mode": {
    "name": "ipython",
    "version": 3
   },
   "file_extension": ".py",
   "mimetype": "text/x-python",
   "name": "python",
   "nbconvert_exporter": "python",
   "pygments_lexer": "ipython3",
   "version": "3.8.5"
  },
  "orig_nbformat": 2
 },
 "nbformat": 4,
 "nbformat_minor": 2
}